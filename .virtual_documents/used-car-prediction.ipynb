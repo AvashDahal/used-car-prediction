import matplotlib.pyplot as plt
import pandas as pd
import seaborn as sns
import numpy as np
from matplotlib.pyplot import xticks
from matplotlib.pyplot import yticks
from sklearn.model_selection import train_test_split


df = pd.read_csv("./used_car_dataset.csv")
df


df.shape


df.info()


df.isnull().sum()


df=df.dropna()


df


df.isna().sum()


df.isnull().sum()


df.describe()


df1= df[['Brand','model','Year','Age','kmDriven','Transmission','Owner','FuelType','PostedDate','AdditionInfo','AskPrice']]


df1


df1 = df1.rename(columns={'model': 'Model','kmDriven':'KmDriven'})


df1.info()


df1['KmDriven'] = df1['KmDriven'].str.replace(' km', '', regex=False)
df1



df1


df1['KmDriven'] = df1['KmDriven'].str.replace(',', '', regex=False)
df1


df1.info()


df1['KmDriven'] = pd. to_numeric(df1['KmDriven'], downcast='integer', errors='coerce')
df1


unique_brands = df['Brand'].unique()
print(unique_brands)


df1.info()


df1['KmDriven'] = df1['KmDriven'].astype(int)
df1


df1['AskPrice']=df1['AskPrice'].str.replace('₹','',regex=False)
df1


df1['AskPrice']=df1['AskPrice'].str.replace(',','',regex=False)
df1


df1['AskPrice']=pd.to_numeric(df1['AskPrice'],downcast='integer',errors='coerce')
df1.info()


df1



TransmissionType=pd.get_dummies(df1['Transmission'],drop_first=True)
TransmissionType


df1=pd.concat([df1,TransmissionType],axis=1)
df1


owner=pd.get_dummies(df1['Owner'],drop_first=True)
owner


fuelType=pd.get_dummies(df1['FuelType'],drop_first=False)
fuelType


df1=pd.concat([df1,owner],axis=1)
df1


df1=pd.concat([df1,fuelType],axis=1)
df1


df1 = df1.drop(['Transmission','Owner','FuelType'],axis = 1)
df1


df1 = df1.drop(['Model','PostedDate','AdditionInfo'],axis = 1)
df1


df1 = df1.drop(['Year'],axis = 1)
df1


BrandName=pd.get_dummies(df1['Brand'],drop_first=False)
BrandName







df1=pd.concat([df1,BrandName],axis=1)
df1


df1=df1.drop(['Brand'],axis=1)
df1


plt.figure(figsize=(15,5))
sns.heatmap(df1[['Age','KmDriven','AskPrice']].corr(),annot=True)
plt.show()





df_train, df_test = train_test_split(df1, train_size = 0.85, test_size = 0.15, random_state = 1)


df_train





df_train.shape


from sklearn.linear_model import LinearRegression
X_train = df_train.iloc[:, [i for i in range(df1.shape[1]) if df1.columns[i] != 'AskPrice']]
X_train



Y_train=df_train['AskPrice']
Y_train


import pickle as pk
filename = 'model.pickle'
pk.dump(lr_model, open(filename, 'wb'))


lr=LinearRegression()
lr_model=lr.fit(X_train,Y_train)


data=df1.iloc[100:101]
data


actual_askPrice=data['AskPrice']
data=data.drop(['AskPrice'],axis=1)
data


print("Predicted Ask Price",lr_model.predict(data))
print("Actual Price",actual_askPrice)


# # First cell - Import and define attributes
# import pandas as pd

# attributes = {
#     'numeric': ['Age', 'KmDriven'],
#     'binary': ['Manual', 'second', 'Diesel', 'Hybrid/CNG', 'Petrol'],
#     'brands': ['Honda', 'Toyota', 'Volkswagen', 'Maruti Suzuki', 'BMW', 'Ford', 'Kia',
#                'Mercedes-Benz', 'Hyundai', 'Audi', 'Renault', 'MG', 'Volvo', 'Skoda', 'Tata',
#                'Mahindra', 'Mini', 'Land Rover', 'Jeep', 'Chevrolet', 'Jaguar', 'Fiat',
#                'Aston Martin', 'Porsche', 'Nissan', 'Force', 'Mitsubishi', 'Lexus', 'Isuzu',
#                'Datsun', 'Ambassador', 'Rolls-Royce', 'Bajaj', 'Opel', 'Ashok', 'Bentley',
#                'Ssangyong', 'Maserati']
# }

# # Second cell - Helper functions
# def validate_numeric(value, field):
#     """Validate numeric inputs with field-specific rules."""
#     try:
#         value = float(value)
#         if field == 'Age':
#             if value < 0 or value > 50:
#                 raise ValueError("Age must be between 0 and 50 years")
#         elif field == 'KmDriven':
#             if value < 0:
#                 raise ValueError("KmDriven cannot be negative")
       
#         return value
#     except ValueError as e:
#         if str(e).startswith("Age") or str(e).startswith("KmDriven"):
#             raise
#         raise ValueError("Please enter a valid number")

# def get_numeric_input(prompt, field):
#     """Get and validate numeric input."""
#     while True:
#         try:
#             value = input(prompt)
#             return validate_numeric(value, field)
#         except ValueError as e:
#             print(f"Error: {str(e)}")

# def get_car_condition():
#     """Get whether the car is new or second-hand."""
#     while True:
#         condition = input("Is the car new or second-hand? (new/second): ").lower()
#         if condition in ['new', 'second']:
#             return 1 if condition == 'second' else 0
#         print("Please enter either 'new' or 'second'")

# def get_transmission():
#     """Get transmission type."""
#     while True:
#         transmission = input("Enter transmission type (manual/automatic): ").lower()
#         if transmission in ['manual', 'automatic']:
#             return 1 if transmission == 'manual' else 0
#         print("Please enter either 'manual' or 'automatic'")

# def get_fuel_type():
#     """Get fuel type with mutual exclusivity."""
#     print("\nFuel Types:")
#     print("1. Petrol")
#     print("2. Diesel")
#     print("3. Hybrid/CNG")
#     while True:
#         choice = input("Select fuel type (1-3): ")
#         if choice in ['1', '2', '3']:
#             return {
#                 '1': {'Petrol': 1, 'Diesel': 0, 'Hybrid/CNG': 0},
#                 '2': {'Petrol': 0, 'Diesel': 1, 'Hybrid/CNG': 0},
#                 '3': {'Petrol': 0, 'Diesel': 0, 'Hybrid/CNG': 1}
#             }[choice]
#         print("Please select a valid option (1-3)")

# def get_brand(brands):
#     """Get car brand from list."""
#     print("\nAvailable Brands:")
#     for i, brand in enumerate(brands, 1):
#         print(f"{i}. {brand}")
#     while True:
#         try:
#             choice = int(input(f"Select brand (1-{len(brands)}): "))
#             if 1 <= choice <= len(brands):
#                 selected_brand = brands[choice-1]
#                 return {brand: 1 if brand == selected_brand else 0 for brand in brands}
#             print(f"Please enter a number between 1 and {len(brands)}")
#         except ValueError:
#             print("Please enter a valid number")

# # Third cell - Data collection function
# def collect_car_data():
#     data = {}
    
#     # Collect numeric inputs
#     print("=== Numeric Information ===")
#     for attr in attributes['numeric']:
#         data[attr] = [get_numeric_input(f"Enter {attr}: ", attr)]
    
#     # Get car condition
#     print("\n=== Car Condition ===")
#     data['second'] = [get_car_condition()]
    
#     # Get transmission
#     print("\n=== Transmission ===")
#     data['Manual'] = [get_transmission()]
    
#     # Get fuel type
#     print("\n=== Fuel Type ===")
#     fuel_data = get_fuel_type()
#     for fuel_type, value in fuel_data.items():
#         data[fuel_type] = [value]
    
#     # Get brand
#     print("\n=== Brand Selection ===")
#     brand_data = get_brand(attributes['brands'])
#     data.update({brand: [value] for brand, value in brand_data.items()})
    
#     df = pd.DataFrame(data)
    
#     # Define the expected column order based on the training data
#     expected_columns = ['Age', 'KmDriven', 'Manual', 'second', 'Diesel', 'Hybrid/CNG', 
#                        'Petrol', 'Ambassador', 'Ashok', 'Aston Martin', 'Audi', 'BMW',
#                        'Bajaj', 'Bentley', 'Chevrolet', 'Datsun', 'Fiat', 'Force',
#                        'Ford', 'Honda', 'Hyundai', 'Isuzu', 'Jaguar', 'Jeep', 'Kia',
#                        'Land Rover', 'Lexus', 'MG', 'Mahindra', 'Maruti Suzuki',
#                        'Maserati', 'Mercedes-Benz', 'Mini', 'Mitsubishi', 'Nissan',
#                        'Opel', 'Porsche', 'Renault', 'Rolls-Royce', 'Skoda', 
#                        'Ssangyong', 'Tata', 'Toyota', 'Volkswagen', 'Volvo']
    
#     # Reorder columns to match training data
#     df = df.reindex(columns=expected_columns, fill_value=0)
    
#     return df



# working_df = collect_car_data()
# print("\nCollected Data:")
# display(working_df) 


working_df=pd.DataFrame(data)
predicted_value = lr_model.predict(working_df)
print("Predicted value is:", np.round(predicted_value, 2))
print(predicted_value)



print("Linear regression = ",round(lr_model.score(X_train, Y_train)*100))



